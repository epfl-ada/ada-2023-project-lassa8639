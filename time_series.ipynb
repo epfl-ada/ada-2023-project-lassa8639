{
 "cells": [
  {
   "cell_type": "markdown",
   "metadata": {},
   "source": [
    "I like to work with timeseries data, they are my favorites"
   ]
  },
  {
   "cell_type": "code",
   "execution_count": null,
   "metadata": {
    "vscode": {
     "languageId": "plaintext"
    }
   },
   "outputs": [],
   "source": [
    "# Loading the dataset\n",
    "folder = \"./data/\"\n",
    "df_timeseries = pd.read_csv(folder + \"df_timeseries_en.tsv\", sep=\"\\t\")\n",
    "\n",
    "# Convert 'datetime' column to datetime object\n",
    "df_timeseries['datetime'] = pd.to_datetime(df_timeseries['datetime'])\n",
    "\n",
    "# Displaying the dataset\n",
    "df_timeseries.head(2)"
   ]
  },
  {
   "cell_type": "code",
   "execution_count": null,
   "metadata": {
    "vscode": {
     "languageId": "plaintext"
    }
   },
   "outputs": [],
   "source": [
    "# Loading the metadata mental health related dataset\n",
    "df_metadata = pd.read_csv(folder + \"metadata_mental_best.csv\")\n",
    "\n",
    "# Creating a new sub-dataset from the time series one with only the channel_id coming from the metadata mental health dataset :\n",
    "# Extract unique channel IDs from the metadata mental health dataset\n",
    "mental_health_channel_ids = df_metadata['channel_id'].unique()\n",
    "\n",
    "# Filter the time series dataset based on channel IDs\n",
    "df_timeseries_mental_health = df_timeseries[df_timeseries['channel'].isin(mental_health_channel_ids)].copy()\n",
    "timeseries_mental_health_channel_ids = df_timeseries_mental_health['channel'].unique()\n",
    "\n",
    "# Set the normal indeces (0,1,2...)\n",
    "df_timeseries_mental_health.reset_index(drop=True, inplace=True) \n",
    "\n",
    "# Display the new dataset\n",
    "df_timeseries_mental_health.head(5)"
   ]
  },
  {
   "cell_type": "code",
   "execution_count": null,
   "metadata": {
    "vscode": {
     "languageId": "plaintext"
    }
   },
   "outputs": [],
   "source": [
    "# Sorting of the dataset for having each videos of one channel in order\n",
    "df_timeseries_mental_health['datetime'] = pd.to_datetime(df_timeseries_mental_health['datetime'])  # Convert to datetime format\n",
    "\n",
    "# Sort the DataFrame by \"channel\" and \"datetime\"\n",
    "df_timeseries_mental_health = df_timeseries_mental_health.sort_values(by=['channel', 'datetime'])\n",
    "\n",
    "# If you want to reset the index after sorting\n",
    "df_timeseries_mental_health = df_timeseries_mental_health.reset_index(drop=True)\n",
    "\n",
    "# Display the new dataset\n",
    "df_timeseries_mental_health.head(5)"
   ]
  },
  {
   "cell_type": "code",
   "execution_count": null,
   "metadata": {
    "vscode": {
     "languageId": "plaintext"
    }
   },
   "outputs": [],
   "source": [
    "# Create a new column 'relative_delta_views' and set it to zero initially\n",
    "df_timeseries_mental_health['relative_delta_views'] = 0.0\n",
    "\n",
    "# Group the DataFrame by 'channel' and calculate the relative delta views\n",
    "df_timeseries_mental_health['relative_delta_views'] = df_timeseries_mental_health.groupby('channel')['delta_views'].pct_change().fillna(0)"
   ]
  },
  {
   "cell_type": "code",
   "execution_count": null,
   "metadata": {
    "vscode": {
     "languageId": "plaintext"
    }
   },
   "outputs": [],
   "source": [
    "df_timeseries_mental_health['week'] = df_timeseries_mental_health['datetime'] - pd.to_timedelta(df_timeseries_mental_health['datetime'].dt.dayofweek, unit='d')\n",
    "\n",
    "df_metadata['upload_date'] = pd.to_datetime(df_metadata['upload_date'])\n",
    "df_metadata['week'] = df_metadata['upload_date'] - pd.to_timedelta(df_metadata['upload_date'].dt.dayofweek, unit='d')\n",
    "\n",
    "df_metadata.rename(columns={'channel_id': 'channel'}, inplace=True)"
   ]
  },
  {
   "cell_type": "code",
   "execution_count": null,
   "metadata": {
    "vscode": {
     "languageId": "plaintext"
    }
   },
   "outputs": [],
   "source": [
    "#make the merging\n",
    "df_timeseries_mental_health = df_timeseries_mental_health.merge(df_metadata, how = 'left', indicator=True, left_on= ['week', 'channel'],right_on= ['week', 'channel'])"
   ]
  },
  {
   "cell_type": "code",
   "execution_count": null,
   "metadata": {
    "vscode": {
     "languageId": "plaintext"
    }
   },
   "outputs": [],
   "source": [
    "#remove columns from merging\n",
    "words_to_remove = [\"channel\", \"week\"]\n",
    "\n",
    "# Using list comprehension\n",
    "columns_to_remove = [' '.join([word for word in string.split() if word not in words_to_remove]) for string in df_metadata.columns]\n",
    "\n",
    "df_timeseries_mental_health = df_timeseries_mental_health.drop(columns=columns_to_remove, errors='ignore')\n"
   ]
  },
  {
   "cell_type": "code",
   "execution_count": null,
   "metadata": {
    "vscode": {
     "languageId": "plaintext"
    }
   },
   "outputs": [],
   "source": [
    "df_timeseries_mental_health['_merge'] = df_timeseries_mental_health['_merge'].replace({'left_only': 0, 'both': 1, 'right_only': 0})\n",
    "df_timeseries_mental_health.rename(columns={'_merge': 'mh_video'}, inplace=True)"
   ]
  },
  {
   "cell_type": "markdown",
   "metadata": {},
   "source": [
    "Try to see a few channels\n"
   ]
  },
  {
   "cell_type": "code",
   "execution_count": null,
   "metadata": {
    "vscode": {
     "languageId": "plaintext"
    }
   },
   "outputs": [],
   "source": [
    "df_timeseries_mental_health[df_timeseries_mental_health['channel']== 'UC--24Q3_ZQeFmgJE-Um5QZQ'][df_timeseries_mental_health['mh_video']==1]"
   ]
  },
  {
   "cell_type": "code",
   "execution_count": null,
   "metadata": {
    "vscode": {
     "languageId": "plaintext"
    }
   },
   "outputs": [],
   "source": [
    "views_channel_try = df_timeseries_mental_health[df_timeseries_mental_health['channel']== 'UC--24Q3_ZQeFmgJE-Um5QZQ']['delta_views'].to_numpy()\n",
    "indeces = df_timeseries_mental_health[df_timeseries_mental_health['channel']== 'UC--24Q3_ZQeFmgJE-Um5QZQ'].index\n",
    "plt.plot(indeces, views_channel_try)"
   ]
  }
 ],
 "metadata": {
  "language_info": {
   "name": "python"
  }
 },
 "nbformat": 4,
 "nbformat_minor": 2
}
