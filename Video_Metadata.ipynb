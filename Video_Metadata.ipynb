{
 "cells": [
  {
   "cell_type": "code",
   "execution_count": null,
   "metadata": {},
   "outputs": [],
   "source": [
    "import pandas as pd\n",
    "import json\n",
    "import scipy\n",
    "import gzip\n",
    "from tqdm import tqdm\n",
    "\n",
    "from datetime import datetime, date, time\n",
    "\n",
    "import matplotlib\n",
    "import matplotlib.pyplot as plt"
   ]
  },
  {
   "cell_type": "code",
   "execution_count": null,
   "metadata": {},
   "outputs": [],
   "source": [
    "word_lists = [\n",
    "    \"mental health\",\n",
    "    \"mental illness\",\n",
    "    \"solitude\",\n",
    "    \"alone\",\n",
    "    \"lonely\",\n",
    "    \"loneliness\",\n",
    "    \"depress\"  # \"depression\",# \"depressed\",# \"depressing\",\n",
    "    \"stress\"  # \"stress\", # \"stressing\",# \"stressed\"\n",
    "    \"anxiety\",\n",
    "    \"anxious\",\n",
    "    \"suicide\",\n",
    "    \"suicidal\",\n",
    "    \"trauma\",\n",
    "    \"ptsd\",\n",
    "    \"[^a-z0-9]emo[^a-z0-9]\"\n",
    "]\n",
    "\n",
    "key_words = \"|\".join(word_lists)"
   ]
  },
  {
   "cell_type": "code",
   "execution_count": null,
   "metadata": {},
   "outputs": [],
   "source": [
    "##### metadata #####\n",
    "\n",
    "def df_filter(metadata: list):\n",
    "    \"\"\"\n",
    "    Function to build and filter dataframe.\n",
    "    A record would be kept if all its text fields (description, tags, title) match with at least one keyword specifed above\n",
    "    \"\"\"\n",
    "\n",
    "    df_meta = pd.DataFrame(metadata)\n",
    "\n",
    "    # df_text = df_meta[[\"description\", \"tags\", \"title\"]].copy()\n",
    "    # df_text.dropna(inplace=True)\n",
    "\n",
    "    filter_condition1 = df_meta[\"description\"].str.lower().str.contains(key_words).astype(int)\n",
    "    filter_condition2 = df_meta[\"tags\"].str.lower().str.contains(key_words).astype(int)\n",
    "    filter_condition3 = df_meta[\"title\"].str.lower().str.contains(key_words).astype(int)\n",
    "\n",
    "    filter_condition = filter_condition1 + filter_condition2 + filter_condition3\n",
    "    df_meta = df_meta[filter_condition >= 2]\n",
    "\n",
    "    # df_meta = df_meta[df_meta[\"description\"].str.lower().str.contains(key_words)]\n",
    "    # df_meta = df_meta[df_meta[\"tags\"].str.lower().str.contains(key_words)]\n",
    "    # df_meta = df_meta[df_meta[\"title\"].str.lower().str.contains(key_words)]\n",
    "\n",
    "    return df_meta.copy()\n",
    "\n",
    "\n",
    "metadata = []\n",
    "tmp_metadata = []\n",
    "\n",
    "# Specify the file path and batch size\n",
    "file_path = './data/yt_metadata_en.jsonl.gz'\n",
    "batch = 200000\n",
    "\n",
    "with gzip.open(file_path, mode=\"rb\") as f:\n",
    "    for idx, row in enumerate(tqdm(f, total=72924794)):\n",
    "        json_dict = json.loads(row.decode(\"utf-8\"))\n",
    "        tmp_metadata.append(json_dict)\n",
    "\n",
    "        if (idx + 1) % batch == 0 and idx != 0:\n",
    "            metadata.append(df_filter(tmp_metadata))\n",
    "            tmp_metadata = []\n",
    "    \n",
    "    if tmp_metadata:\n",
    "        metadata.append(df_filter(tmp_metadata))\n",
    "        tmp_metadata = []\n",
    "\n",
    "df_meta_final = pd.concat(metadata)"
   ]
  },
  {
   "cell_type": "code",
   "execution_count": null,
   "metadata": {},
   "outputs": [],
   "source": [
    "df_meta_final.to_csv(\"./metadata_more.csv\", index=False)"
   ]
  },
  {
   "cell_type": "code",
   "execution_count": null,
   "metadata": {},
   "outputs": [],
   "source": [
    "df_meta = pd.read_csv(\"./metadata.csv\")\n",
    "df_meta.upload_date = pd.to_datetime(df_meta.upload_date)\n",
    "\n",
    "df_meta['upload_month'] = df_meta['upload_date'].dt.to_period('M')\n",
    "\n",
    "# Plotting the histogram\n",
    "plt.figure(figsize=(10, 6))\n",
    "df_meta['upload_month'].value_counts().sort_index().plot(kind='bar', color='skyblue')"
   ]
  },
  {
   "cell_type": "code",
   "execution_count": null,
   "metadata": {},
   "outputs": [],
   "source": [
    "df_meta_channel = df_meta.sort_values(by=\"upload_date\").drop_duplicates(subset = ['channel_id', 'upload_month'], keep='first').copy()\n",
    "plt.figure(figsize=(10, 6))\n",
    "df_meta_channel['upload_month'].value_counts().sort_index().plot(kind='bar', color='skyblue')"
   ]
  }
 ],
 "metadata": {
  "language_info": {
   "name": "python"
  }
 },
 "nbformat": 4,
 "nbformat_minor": 2
}
